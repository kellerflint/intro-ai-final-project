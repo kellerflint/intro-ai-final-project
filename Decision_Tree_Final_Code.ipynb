{
 "cells": [
  {
   "cell_type": "code",
   "execution_count": null,
   "id": "c2db117b-44fb-483d-81f6-58cdd3ea6127",
   "metadata": {},
   "outputs": [
    {
     "name": "stdout",
     "output_type": "stream",
     "text": [
      "Accuracy(%): 79.60159781351834\n",
      "dot: graph is too large for cairo-renderer bitmaps. Scaling by 0.0248423 to fit\n",
      "\n"
     ]
    }
   ],
   "source": [
    "# Decision Tree Classification \n",
    "\n",
    "# Import all necessary libraries\n",
    "import pandas as pd\n",
    "import numpy as np\n",
    "from sklearn.tree import DecisionTreeClassifier # Import Decision Tree Classifier\n",
    "from sklearn.model_selection import train_test_split # Import train_test_split function\n",
    "from sklearn import metrics #Import scikit-learn metrics module for accuracy calculation\n",
    "from ucimlrepo import fetch_ucirepo\n",
    "from sklearn.tree import export_graphviz\n",
    "import six\n",
    "from six import StringIO  \n",
    "from IPython.display import Image  \n",
    "import pydotplus\n",
    "\n",
    "# Call in dataset\n",
    "cdc_diabetes_health_indicators = fetch_ucirepo(id = 891)\n",
    "\n",
    "# Data (X is all Features, Y is the Final Binary)\n",
    "X = cdc_diabetes_health_indicators.data.features \n",
    "y = cdc_diabetes_health_indicators.data.targets\n",
    "\n",
    "cols = X.columns\n",
    "# Metadata \n",
    "print(cdc_diabetes_health_indicators.metadata) \n",
    "  \n",
    "# Variable information \n",
    "print(cdc_diabetes_health_indicators.variables) \n",
    "\n",
    "#Spliting dataset into a training and test set (Full features)\n",
    "X_train, X_test, y_train, y_test = train_test_split(X, y, test_size = 0.3, random_state = 1)\n",
    "\n",
    "# Create classifier object\n",
    "clf = DecisionTreeClassifier()\n",
    "\n",
    "# Calssification test\n",
    "clf = clf.fit(X_train, y_train)\n",
    "y_predict = clf.predict(X_test)\n",
    "print(\"Accuracy(%):\", 100 * metrics.accuracy_score(y_test, y_predict))\n",
    "\n",
    "dot_data = StringIO()\n",
    "export_graphviz(clf, out_file=dot_data,  \n",
    "                filled=True, rounded=True,\n",
    "                special_characters=True,feature_names = cols,class_names=['0','1'])\n",
    "graph = pydotplus.graph_from_dot_data(dot_data.getvalue())  \n",
    "graph.write_png('diabetes.png')\n",
    "Image(graph.create_png())"
   ]
  },
  {
   "cell_type": "code",
   "execution_count": null,
   "id": "22f88f47-5c7d-4b43-bac2-1ca9067b27e4",
   "metadata": {},
   "outputs": [],
   "source": []
  }
 ],
 "metadata": {
  "kernelspec": {
   "display_name": "Python 3 (ipykernel)",
   "language": "python",
   "name": "python3"
  },
  "language_info": {
   "codemirror_mode": {
    "name": "ipython",
    "version": 3
   },
   "file_extension": ".py",
   "mimetype": "text/x-python",
   "name": "python",
   "nbconvert_exporter": "python",
   "pygments_lexer": "ipython3",
   "version": "3.11.5"
  }
 },
 "nbformat": 4,
 "nbformat_minor": 5
}
